{
 "cells": [
  {
   "cell_type": "markdown",
   "metadata": {},
   "source": [
    "# Task 2 - Prediction of store sales\n",
    "- Preprocessing\n",
    "- Building models with sklearn pipelines\n",
    "- Choose a loss function\n",
    "- Post Prediction Analysis\n",
    "- Serialize models\n",
    "- Building model with deep learning \n"
   ]
  },
  {
   "cell_type": "code",
   "execution_count": 1,
   "metadata": {},
   "outputs": [],
   "source": [
    "import pandas as pd \n",
    "import numpy as np \n",
    "import matplotlib.pyplot as plt \n",
    "import seaborn as sns\n",
    "from sklearn.preprocessing import StandardScaler, LabelEncoder, OneHotEncoder\n",
    "\n",
    "import os\n",
    "import sys\n",
    "sys.path.append(os.path.abspath(os.path.join('..','src')))\n",
    "from eda import EDA\n",
    "from utility import ANALYSIS\n",
    "from model_utility import PREDICTION\n",
    "\n",
    "\n",
    "import warnings\n",
    "warnings.filterwarnings('ignore')"
   ]
  },
  {
   "cell_type": "code",
   "execution_count": 2,
   "metadata": {},
   "outputs": [],
   "source": [
    "# Initialize\n",
    "pred = PREDICTION('train_store.csv')\n",
    "# train = pred.get_dataframe()"
   ]
  },
  {
   "cell_type": "code",
   "execution_count": 4,
   "metadata": {},
   "outputs": [
    {
     "name": "stdout",
     "output_type": "stream",
     "text": [
      "<class 'pandas.core.frame.DataFrame'>\n",
      "RangeIndex: 1017209 entries, 0 to 1017208\n",
      "Data columns (total 25 columns):\n",
      " #   Column                     Non-Null Count    Dtype         \n",
      "---  ------                     --------------    -----         \n",
      " 0   Unnamed: 0                 1017209 non-null  int64         \n",
      " 1   Store                      1017209 non-null  int64         \n",
      " 2   StoreType                  1017209 non-null  object        \n",
      " 3   Assortment                 1017209 non-null  object        \n",
      " 4   CompetitionDistance        1017209 non-null  float64       \n",
      " 5   CompetitionOpenSinceMonth  1017209 non-null  float64       \n",
      " 6   CompetitionOpenSinceYear   1017209 non-null  float64       \n",
      " 7   Promo2                     1017209 non-null  int64         \n",
      " 8   Promo2SinceWeek            1017209 non-null  float64       \n",
      " 9   Promo2SinceYear            1017209 non-null  float64       \n",
      " 10  PromoInterval              1017209 non-null  object        \n",
      " 11  DayOfWeek                  1017209 non-null  int64         \n",
      " 12  Date                       1017209 non-null  datetime64[ns]\n",
      " 13  Sales                      1017209 non-null  int64         \n",
      " 14  Customers                  1017209 non-null  int64         \n",
      " 15  Open                       1017209 non-null  int64         \n",
      " 16  Promo                      1017209 non-null  int64         \n",
      " 17  StateHoliday               1017209 non-null  object        \n",
      " 18  SchoolHoliday              1017209 non-null  int64         \n",
      " 19  weekdays                   1017209 non-null  int64         \n",
      " 20  nextHolidayDays            1017209 non-null  int64         \n",
      " 21  pastHolidayDays            1017209 non-null  int64         \n",
      " 22  monthRange                 1017209 non-null  int64         \n",
      " 23  yearRange                  1017209 non-null  int64         \n",
      " 24  competitive                1017209 non-null  int32         \n",
      "dtypes: datetime64[ns](1), float64(5), int32(1), int64(14), object(4)\n",
      "memory usage: 190.1+ MB\n"
     ]
    }
   ],
   "source": [
    "# New Features\n",
    "pred.new_features()\n",
    "train = pred.get_dataframe()\n",
    "train.info()"
   ]
  },
  {
   "cell_type": "code",
   "execution_count": 6,
   "metadata": {},
   "outputs": [
    {
     "name": "stdout",
     "output_type": "stream",
     "text": [
      "<class 'pandas.core.frame.DataFrame'>\n",
      "RangeIndex: 1017209 entries, 0 to 1017208\n",
      "Data columns (total 30 columns):\n",
      " #   Column                          Non-Null Count    Dtype         \n",
      "---  ------                          --------------    -----         \n",
      " 0   Store                           1017209 non-null  int64         \n",
      " 1   Assortment                      1017209 non-null  int32         \n",
      " 2   CompetitionDistance             1017209 non-null  float64       \n",
      " 3   CompetitionOpenSinceMonth       1017209 non-null  float64       \n",
      " 4   CompetitionOpenSinceYear        1017209 non-null  float64       \n",
      " 5   Promo2                          1017209 non-null  int64         \n",
      " 6   Promo2SinceWeek                 1017209 non-null  float64       \n",
      " 7   Promo2SinceYear                 1017209 non-null  float64       \n",
      " 8   DayOfWeek                       1017209 non-null  int64         \n",
      " 9   Date                            1017209 non-null  datetime64[ns]\n",
      " 10  Sales                           1017209 non-null  int64         \n",
      " 11  Customers                       1017209 non-null  int64         \n",
      " 12  Open                            1017209 non-null  int64         \n",
      " 13  Promo                           1017209 non-null  int64         \n",
      " 14  SchoolHoliday                   1017209 non-null  int64         \n",
      " 15  weekdays                        1017209 non-null  int64         \n",
      " 16  nextHolidayDays                 1017209 non-null  int64         \n",
      " 17  pastHolidayDays                 1017209 non-null  int64         \n",
      " 18  monthRange                      1017209 non-null  int64         \n",
      " 19  yearRange                       1017209 non-null  int64         \n",
      " 20  competitive                     1017209 non-null  int32         \n",
      " 21  StoreType_b                     1017209 non-null  float64       \n",
      " 22  StoreType_c                     1017209 non-null  float64       \n",
      " 23  StoreType_d                     1017209 non-null  float64       \n",
      " 24  PromoInterval_Feb,May,Aug,Nov   1017209 non-null  float64       \n",
      " 25  PromoInterval_Jan,Apr,Jul,Oct   1017209 non-null  float64       \n",
      " 26  PromoInterval_Mar,Jun,Sept,Dec  1017209 non-null  float64       \n",
      " 27  StateHoliday_a                  1017209 non-null  float64       \n",
      " 28  StateHoliday_b                  1017209 non-null  float64       \n",
      " 29  StateHoliday_c                  1017209 non-null  float64       \n",
      "dtypes: datetime64[ns](1), float64(14), int32(2), int64(13)\n",
      "memory usage: 225.1 MB\n"
     ]
    }
   ],
   "source": [
    "# # change the datatype\n",
    "pred.change_dataType()\n",
    "train = pred.get_dataframe()\n",
    "train.info()"
   ]
  },
  {
   "cell_type": "code",
   "execution_count": 31,
   "metadata": {},
   "outputs": [
    {
     "data": {
      "text/plain": [
       "array([   0,   -1,   -2,   -3,   -4,   -5,   -6,   -7,   -8,   -9,  -10,\n",
       "        -11,  -12,  -13,  -14,  -15,  -16,  -17,  -18,  -19,  -20,  -21,\n",
       "        -22,  -23,  -24,  -25,  -26,  -27,  -28,  -29,  -30,  -31,  -32,\n",
       "        -33,  -34,  -35,  -36,  -37,  -38,  -39,  -40,  -41,  -42,  -43,\n",
       "        -44,  -45,  -46,  -47,  -48,  -49,  -50,  -51,  -52,  -53,  -54,\n",
       "        -55,  -56,  -57,  -58,  -59,  -60,  -61,  -62,  -63,  -64,  -65,\n",
       "        -66,  -67,  -68,  -69,  -70,  -71,  -72,  -73,  -74,  -75,  -76,\n",
       "        -77,  -78,  -79,  -80,  -81,  -82,  -83,  -84,  -85,  -86,  -87,\n",
       "        -88,  -89,  -90,  -91,  -92,  -93,  -94,  -95,  -96,  -97,  -98,\n",
       "        -99, -100, -101, -102, -103, -104, -105, -106, -107, -108, -109,\n",
       "       -110, -111, -112, -113, -114, -115, -116, -117, -118, -119, -120,\n",
       "       -121, -122, -123, -124, -125, -126, -127, -128, -129, -130, -131,\n",
       "       -132, -133, -134, -135, -136, -137, -138, -139, -140, -141, -142,\n",
       "       -143, -144, -145, -146, -147, -148, -149, -150, -151, -152, -153,\n",
       "       -154, -155, -156, -157, -158, -159, -160, -161, -162, -163, -164,\n",
       "       -165, -166, -167, -168, -169, -170, -171, -172, -173, -174, -175,\n",
       "       -176, -177, -178, -179, -180, -181, -182, -183, -184, -185, -186,\n",
       "       -187, -188, -189, -190, -191, -192, -193, -194, -195, -196, -197,\n",
       "       -198, -199, -200, -201, -202, -203, -204, -205, -206, -207, -208,\n",
       "       -209, -210, -211, -212, -213, -214, -215, -216, -217, -218, -219,\n",
       "       -220, -221, -222, -223, -224, -225, -226, -227, -228, -229, -230,\n",
       "       -231, -232, -233, -234, -235, -236, -237, -238, -239, -240, -241,\n",
       "       -242, -243, -244, -245, -246, -247, -248, -249, -250, -251, -252,\n",
       "       -253, -254, -255, -256, -257, -258, -259, -260, -261, -262, -263,\n",
       "       -264, -265, -266, -267, -268, -269, -270, -271, -272, -273, -274,\n",
       "       -275, -276, -277, -278, -279, -280, -281, -282, -283, -284, -285,\n",
       "       -286, -287, -288, -289, -290, -291, -292, -293, -294, -295, -296,\n",
       "       -297, -298, -299, -300, -301, -302, -303, -304, -305, -306, -307,\n",
       "       -308, -309, -310, -311, -312, -313, -314, -315, -316, -317, -318,\n",
       "       -319, -320, -321, -322, -323, -324, -325, -326, -327, -328, -329,\n",
       "       -330, -331, -332, -333, -334, -335, -336, -337, -338, -339, -340,\n",
       "       -341, -342, -343, -344, -345, -346, -347, -348, -349, -350, -351,\n",
       "       -352, -353, -354, -355, -356, -357, -358, -359, -360, -361, -362,\n",
       "       -363, -364, -365, -366, -367, -368, -369, -370, -371, -372, -373,\n",
       "       -374, -375, -376, -377, -378, -379, -380, -381, -382, -383, -384,\n",
       "       -385, -386, -387, -388, -389, -390, -391, -392, -393, -394, -395,\n",
       "       -396, -397, -398, -399, -400, -401, -402, -403, -404, -405, -406,\n",
       "       -407, -408, -409, -410, -411, -412, -413, -414, -415, -416, -417,\n",
       "       -418, -419, -420, -421, -422, -423, -424, -425, -426, -427, -428,\n",
       "       -429, -430, -431, -432, -433, -434, -435, -436, -437, -438, -439,\n",
       "       -440, -441, -442, -443, -444, -445, -446, -447, -448, -449, -450,\n",
       "       -451, -452, -453, -454, -455, -456, -457, -458, -459, -460, -461,\n",
       "       -462, -463, -464, -465, -466, -467, -468, -469, -470, -471, -472,\n",
       "       -473, -474, -475, -476, -477, -478, -479, -480, -481, -482, -483,\n",
       "       -484, -485, -486, -487, -488, -489, -490, -491, -492, -493, -494,\n",
       "       -495, -496, -497, -498, -499, -500, -501, -502, -503, -504, -505,\n",
       "       -506, -507, -508, -509, -510, -511, -512, -513, -514, -515, -516,\n",
       "       -517, -518, -519, -520, -521, -522, -523, -524, -525, -526, -527,\n",
       "       -528, -529, -530, -531, -532, -533, -534, -535, -536, -537, -538,\n",
       "       -539, -540, -541, -542, -543, -544, -545, -546, -547, -548, -549,\n",
       "       -550, -551, -552, -553, -554, -555, -556, -557, -558, -559, -560,\n",
       "       -561, -562, -563, -564, -565, -566, -567, -568, -569, -570, -571,\n",
       "       -572, -573, -574, -575, -576, -577, -578, -579, -580, -581, -582,\n",
       "       -583, -584, -585, -586, -587, -588, -589, -590, -591, -592, -593,\n",
       "       -594, -595, -596, -597, -598, -599, -600, -601, -602, -603, -604,\n",
       "       -605, -606, -607, -608, -609, -610, -611, -612, -613, -614, -615,\n",
       "       -616, -617, -618, -619, -620, -621, -622, -623, -624, -625, -626,\n",
       "       -627, -628, -629, -630, -631, -632, -633, -634, -635, -636, -637,\n",
       "       -638, -639, -640, -641, -642, -643, -644, -645, -646, -647, -648,\n",
       "       -649, -650, -651, -652, -653, -654, -655, -656, -657, -658, -659,\n",
       "       -660, -661, -662, -663, -664, -665, -666, -667, -668, -669, -670,\n",
       "       -671, -672, -673, -674, -675, -676, -677, -678, -679, -680, -681,\n",
       "       -682, -683, -684, -685, -686, -687, -688, -689, -690, -691, -692,\n",
       "       -693, -694, -695, -696, -697, -698, -699, -700, -701, -702, -703,\n",
       "       -704, -705, -706, -707, -708, -709, -710, -711, -712, -713, -714,\n",
       "       -715, -716, -717, -718, -719, -720, -721, -722, -723, -724, -725,\n",
       "       -726, -727, -728, -729, -730, -731, -732, -733, -734, -735, -736,\n",
       "       -737, -738, -739, -740, -741, -742, -743, -744, -745, -746, -747,\n",
       "       -748, -749, -750, -751, -752, -753, -754, -755, -756, -757, -758,\n",
       "       -759, -760, -761, -762, -763, -764, -765, -766, -767, -768, -769,\n",
       "       -770, -771, -772, -773, -774, -775, -776, -777, -778, -779, -780,\n",
       "       -781, -782, -783, -784, -785, -786, -787, -788, -789, -790, -791,\n",
       "       -792, -793, -794, -795, -796, -797, -798, -799, -800, -801, -802,\n",
       "       -803, -804, -805, -806, -807, -808, -809, -810, -811, -812, -813,\n",
       "       -814, -815, -816, -817, -818, -819, -820, -821, -822, -823, -824,\n",
       "       -825, -826, -827, -828, -829, -830, -831, -832, -833, -834, -835,\n",
       "       -836, -837, -838, -839, -840, -841, -842, -843, -844, -845, -846,\n",
       "       -847, -848, -849, -850, -851, -852, -853, -854, -855, -856, -857,\n",
       "       -858, -859, -860, -861, -862, -863, -864, -865, -866, -867, -868,\n",
       "       -869, -870, -871, -872, -873, -874, -875, -876, -877, -878, -879,\n",
       "       -880, -881, -882, -883, -884], dtype=int64)"
      ]
     },
     "execution_count": 31,
     "metadata": {},
     "output_type": "execute_result"
    }
   ],
   "source": [
    "new_df = train[['StateHoliday_a','StateHoliday_b','StateHoliday_c','nextHolidayDays','pastHolidayDays']]\n",
    "# new_df[(new_df['StateHoliday_a'] > 1) & (new_df['StateHoliday_b'] != 0) & (new_df['StateHoliday_c'] != 0)]]\n",
    "new_df['pastHolidayDays'].unique()"
   ]
  },
  {
   "cell_type": "code",
   "execution_count": 5,
   "metadata": {},
   "outputs": [
    {
     "data": {
      "text/plain": [
       "array(['c', 'a', 'd', 'b'], dtype=object)"
      ]
     },
     "execution_count": 5,
     "metadata": {},
     "output_type": "execute_result"
    }
   ],
   "source": []
  },
  {
   "cell_type": "code",
   "execution_count": 6,
   "metadata": {},
   "outputs": [],
   "source": [
    "# eda.close_logs()\n",
    "# anal.close_logs()"
   ]
  }
 ],
 "metadata": {
  "kernelspec": {
   "display_name": "base",
   "language": "python",
   "name": "python3"
  },
  "language_info": {
   "codemirror_mode": {
    "name": "ipython",
    "version": 3
   },
   "file_extension": ".py",
   "mimetype": "text/x-python",
   "name": "python",
   "nbconvert_exporter": "python",
   "pygments_lexer": "ipython3",
   "version": "3.11.5"
  }
 },
 "nbformat": 4,
 "nbformat_minor": 2
}
