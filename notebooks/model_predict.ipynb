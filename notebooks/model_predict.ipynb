{
 "cells": [
  {
   "cell_type": "markdown",
   "metadata": {},
   "source": [
    "# Task 2 - Prediction of store sales\n",
    "- Preprocessing\n",
    "- Building models with sklearn pipelines\n",
    "- Choose a loss function\n",
    "- Post Prediction Analysis\n",
    "- Serialize models\n",
    "- Building model with deep learning \n"
   ]
  },
  {
   "cell_type": "code",
   "execution_count": 2,
   "metadata": {},
   "outputs": [],
   "source": [
    "import pandas as pd \n",
    "import numpy as np \n",
    "import matplotlib.pyplot as plt \n",
    "import seaborn as sns\n",
    "from sklearn.preprocessing import StandardScaler, LabelEncoder, OneHotEncoder\n",
    "\n",
    "import os\n",
    "import sys\n",
    "sys.path.append(os.path.abspath(os.path.join('..','src')))\n",
    "from eda import EDA\n",
    "from utility import ANALYSIS\n",
    "from model_utility import PREDICTION\n",
    "\n",
    "\n",
    "import warnings\n",
    "warnings.filterwarnings('ignore')"
   ]
  },
  {
   "cell_type": "code",
   "execution_count": 3,
   "metadata": {},
   "outputs": [],
   "source": [
    "# Initialize\n",
    "pred = PREDICTION('train_store.csv')\n",
    "# train = pred.get_dataframe()"
   ]
  },
  {
   "cell_type": "code",
   "execution_count": 4,
   "metadata": {},
   "outputs": [
    {
     "name": "stdout",
     "output_type": "stream",
     "text": [
      "<class 'pandas.core.frame.DataFrame'>\n",
      "RangeIndex: 1017209 entries, 0 to 1017208\n",
      "Data columns (total 25 columns):\n",
      " #   Column                     Non-Null Count    Dtype         \n",
      "---  ------                     --------------    -----         \n",
      " 0   Unnamed: 0                 1017209 non-null  object        \n",
      " 1   Store                      1017209 non-null  object        \n",
      " 2   StoreType                  1017209 non-null  object        \n",
      " 3   Assortment                 1017209 non-null  object        \n",
      " 4   CompetitionDistance        1017209 non-null  object        \n",
      " 5   CompetitionOpenSinceMonth  1017209 non-null  object        \n",
      " 6   CompetitionOpenSinceYear   1017209 non-null  object        \n",
      " 7   Promo2                     1017209 non-null  object        \n",
      " 8   Promo2SinceWeek            1017209 non-null  object        \n",
      " 9   Promo2SinceYear            1017209 non-null  object        \n",
      " 10  PromoInterval              1017209 non-null  object        \n",
      " 11  DayOfWeek                  1017209 non-null  object        \n",
      " 12  Date                       1017209 non-null  datetime64[ns]\n",
      " 13  Sales                      1017209 non-null  object        \n",
      " 14  Customers                  1017209 non-null  object        \n",
      " 15  Open                       1017209 non-null  object        \n",
      " 16  Promo                      1017209 non-null  object        \n",
      " 17  StateHoliday               1017209 non-null  object        \n",
      " 18  SchoolHoliday              1017209 non-null  object        \n",
      " 19  weekdays                   1017209 non-null  object        \n",
      " 20  nextHolidayDays            1017209 non-null  object        \n",
      " 21  pastHolidayDays            1017209 non-null  object        \n",
      " 22  monthRange                 1017209 non-null  object        \n",
      " 23  yearRange                  1017209 non-null  object        \n",
      " 24  competitive                1017209 non-null  object        \n",
      "dtypes: datetime64[ns](1), object(24)\n",
      "memory usage: 194.0+ MB\n"
     ]
    }
   ],
   "source": [
    "# New Features\n",
    "pred.new_features()\n",
    "train = pred.get_dataframe()\n",
    "train.info()"
   ]
  },
  {
   "cell_type": "code",
   "execution_count": 5,
   "metadata": {},
   "outputs": [
    {
     "name": "stdout",
     "output_type": "stream",
     "text": [
      "<class 'pandas.core.frame.DataFrame'>\n",
      "RangeIndex: 1017209 entries, 0 to 1017208\n",
      "Data columns (total 30 columns):\n",
      " #   Column                          Non-Null Count    Dtype         \n",
      "---  ------                          --------------    -----         \n",
      " 0   Store                           1017209 non-null  object        \n",
      " 1   Assortment                      1017209 non-null  int32         \n",
      " 2   CompetitionDistance             1017209 non-null  object        \n",
      " 3   CompetitionOpenSinceMonth       1017209 non-null  object        \n",
      " 4   CompetitionOpenSinceYear        1017209 non-null  object        \n",
      " 5   Promo2                          1017209 non-null  object        \n",
      " 6   Promo2SinceWeek                 1017209 non-null  object        \n",
      " 7   Promo2SinceYear                 1017209 non-null  object        \n",
      " 8   DayOfWeek                       1017209 non-null  object        \n",
      " 9   Date                            1017209 non-null  datetime64[ns]\n",
      " 10  Sales                           1017209 non-null  object        \n",
      " 11  Customers                       1017209 non-null  object        \n",
      " 12  Open                            1017209 non-null  object        \n",
      " 13  Promo                           1017209 non-null  object        \n",
      " 14  SchoolHoliday                   1017209 non-null  object        \n",
      " 15  weekdays                        1017209 non-null  object        \n",
      " 16  nextHolidayDays                 1017209 non-null  object        \n",
      " 17  pastHolidayDays                 1017209 non-null  object        \n",
      " 18  monthRange                      1017209 non-null  object        \n",
      " 19  yearRange                       1017209 non-null  object        \n",
      " 20  competitive                     1017209 non-null  object        \n",
      " 21  StoreType_b                     1017209 non-null  float64       \n",
      " 22  StoreType_c                     1017209 non-null  float64       \n",
      " 23  StoreType_d                     1017209 non-null  float64       \n",
      " 24  PromoInterval_Feb,May,Aug,Nov   1017209 non-null  float64       \n",
      " 25  PromoInterval_Jan,Apr,Jul,Oct   1017209 non-null  float64       \n",
      " 26  PromoInterval_Mar,Jun,Sept,Dec  1017209 non-null  float64       \n",
      " 27  StateHoliday_a                  1017209 non-null  float64       \n",
      " 28  StateHoliday_b                  1017209 non-null  float64       \n",
      " 29  StateHoliday_c                  1017209 non-null  float64       \n",
      "dtypes: datetime64[ns](1), float64(9), int32(1), object(19)\n",
      "memory usage: 228.9+ MB\n"
     ]
    }
   ],
   "source": [
    "# # change the datatype\n",
    "pred.change_dataType()\n",
    "train = pred.get_dataframe()\n",
    "train.info()"
   ]
  },
  {
   "cell_type": "code",
   "execution_count": 6,
   "metadata": {},
   "outputs": [
    {
     "data": {
      "text/plain": [
       "array([57, 56, 55, 54, 53, 52, 51, 50, 49, 48, 47, 46, 45, 44, 43, 42, 41,\n",
       "       40, 39, 38, 37, 36, 35, 34, 33, 32, 31, 30, 29, 28, 27, 26, 25, 24,\n",
       "       23, 22, 21, 20, 19, 18, 17, 16, 15, 14, 13, 12, 11, 10, 9, 8, 7, 6,\n",
       "       5, 4, 3, 2, 1, 87, 86, 85, 84, 83, 82, 81, 80, 79, 78, 77, 76, 75,\n",
       "       74, 73, 72, 71, 70, 69, 68, 67, 66, 65, 64, 63, 62, 61, 60, 59, 58,\n",
       "       106, 105, 104, 103, 102, 101, 100, 99, 98, 97, 96, 95, 94, 93, 92,\n",
       "       91, 90, 89, 88, 0], dtype=object)"
      ]
     },
     "execution_count": 6,
     "metadata": {},
     "output_type": "execute_result"
    }
   ],
   "source": [
    "new_df = train[['StateHoliday_a','StateHoliday_b','StateHoliday_c','nextHolidayDays','pastHolidayDays']]\n",
    "# new_df[(new_df['StateHoliday_a'] > 1) & (new_df['StateHoliday_b'] != 0) & (new_df['StateHoliday_c'] != 0)]]\n",
    "new_df['pastHolidayDays'].unique()"
   ]
  },
  {
   "cell_type": "code",
   "execution_count": 7,
   "metadata": {},
   "outputs": [],
   "source": [
    "from sklearn.model_selection import train_test_split, GridSearchCV\n",
    "from sklearn.ensemble import RandomForestRegressor\n",
    "from sklearn.tree import DecisionTreeRegressor\n",
    "from sklearn.metrics import accuracy_score\n",
    "from sklearn.pipeline import Pipeline\n",
    "# sampling\n",
    "# ab = train.corr()\n",
    "# ab['Sales']\n",
    "\n",
    "# sampling\n",
    "sample = train.sample(frac = 0.1, random_state=42)\n",
    "x_sample = sample.drop(['Sales','Date'],axis=1)\n",
    "y_sample = sample['Sales']\n",
    "\n",
    "scaler = StandardScaler()\n",
    "x_scaled = scaler.fit_transform(x_sample)\n",
    "\n",
    "# random forest and decision tree\n",
    "x_train,x_test,y_train,y_test = train_test_split(x_scaled, y_sample, test_size=0.2, random_state=42)\n",
    "random_para = {\n",
    "    'regressor__n_estimators': [100, 200, 500],\n",
    "    'regressor__max_depth': [None, 10, 20, 30],\n",
    "    'regressor__min_samples_split': [2, 10, 20],\n",
    "    'regressor__min_samples_leaf': [1, 5, 10],\n",
    "    'regressor__max_features': ['auto', 'sqrt', 'log2']\n",
    "}\n",
    "\n",
    "decision_para = {\n",
    "    'regressor__max_depth': [None, 10, 20, 30],\n",
    "    'regressor__min_samples_split': [2, 10, 20],\n",
    "    'regressor__min_samples_leaf': [1, 5, 10],\n",
    "    'regressor__criterion': ['gini', 'entropy']\n",
    "}\n",
    "\n",
    "random_pipeline = Pipeline([\n",
    "    ('scaler', StandardScaler()),\n",
    "    ('regressor', RandomForestRegressor(random_state = 42))\n",
    "])\n",
    "\n",
    "decision_pipline = Pipeline([\n",
    "    ('scaler', StandardScaler()),\n",
    "    ('regressor', DecisionTreeRegressor(random_state=42))\n",
    "])\n",
    "\n",
    "random_model = GridSearchCV(estimator=random_pipeline, param_grid=random_para,cv=3,n_jobs=-1, verbose=2)\n",
    "# decision_model = GridSearchCV(estimator=decision_pipline, param_grid=decision_para,cv=5,n_jobs=-1, verbose=2)"
   ]
  },
  {
   "cell_type": "code",
   "execution_count": 8,
   "metadata": {},
   "outputs": [
    {
     "name": "stdout",
     "output_type": "stream",
     "text": [
      "Fitting 3 folds for each of 324 candidates, totalling 972 fits\n"
     ]
    }
   ],
   "source": [
    "random_model.fit(x_train,y_train)\n",
    "\n",
    "best_random_model = random_model.best_estimator_\n",
    "\n",
    "feature_importance = best_random_model.named_steps['classifier'].feature_importances_\n",
    "\n",
    "feature_importance_df = pd.DataFrame({\n",
    "    'features': x_train.columns,\n",
    "    'importance_score': feature_importance\n",
    "}).sort_values(by='importance_score', ascending = False)\n",
    "\n",
    "print(feature_importance_df)\n",
    "\n",
    "top_features = feature_importance_df['features'].head(10).tolist()\n",
    "\n",
    "x_train_main = x_train[top_features]\n",
    "x_test_main = x_test[top_features]\n",
    "\n",
    "# remodel\n",
    "random_model.fit(x_train_main,y_train)\n",
    "best_random_model = random_model.best_estimator_\n",
    "y_hat = best_random_model.predict(x_test_main)\n",
    "accuracy = accuracy_score(y_test,y_hat)\n",
    "print(accuracy)"
   ]
  },
  {
   "cell_type": "code",
   "execution_count": null,
   "metadata": {},
   "outputs": [],
   "source": []
  },
  {
   "cell_type": "code",
   "execution_count": 32,
   "metadata": {},
   "outputs": [],
   "source": [
    "# pred.close_logs()"
   ]
  }
 ],
 "metadata": {
  "kernelspec": {
   "display_name": "base",
   "language": "python",
   "name": "python3"
  },
  "language_info": {
   "codemirror_mode": {
    "name": "ipython",
    "version": 3
   },
   "file_extension": ".py",
   "mimetype": "text/x-python",
   "name": "python",
   "nbconvert_exporter": "python",
   "pygments_lexer": "ipython3",
   "version": "3.11.5"
  }
 },
 "nbformat": 4,
 "nbformat_minor": 2
}
